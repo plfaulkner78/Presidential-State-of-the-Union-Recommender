{
 "cells": [
  {
   "cell_type": "markdown",
   "metadata": {},
   "source": [
    "### First I will conduct some analysis of the speeches, pointing out trends and cool facts. Then I will build the recommender."
   ]
  },
  {
   "cell_type": "code",
   "execution_count": 1,
   "metadata": {},
   "outputs": [],
   "source": [
    "import pandas as pd"
   ]
  },
  {
   "cell_type": "code",
   "execution_count": 2,
   "metadata": {},
   "outputs": [],
   "source": [
    "sotu_df = pd.read_csv('formatted_sotu_dataframe.csv').drop('Unnamed: 0', axis=1)"
   ]
  },
  {
   "cell_type": "code",
   "execution_count": 3,
   "metadata": {},
   "outputs": [
    {
     "data": {
      "text/html": [
       "<div>\n",
       "<style scoped>\n",
       "    .dataframe tbody tr th:only-of-type {\n",
       "        vertical-align: middle;\n",
       "    }\n",
       "\n",
       "    .dataframe tbody tr th {\n",
       "        vertical-align: top;\n",
       "    }\n",
       "\n",
       "    .dataframe thead th {\n",
       "        text-align: right;\n",
       "    }\n",
       "</style>\n",
       "<table border=\"1\" class=\"dataframe\">\n",
       "  <thead>\n",
       "    <tr style=\"text-align: right;\">\n",
       "      <th></th>\n",
       "      <th>president</th>\n",
       "      <th>year</th>\n",
       "      <th>title</th>\n",
       "      <th>text</th>\n",
       "      <th>party</th>\n",
       "    </tr>\n",
       "  </thead>\n",
       "  <tbody>\n",
       "    <tr>\n",
       "      <th>0</th>\n",
       "      <td>Washington</td>\n",
       "      <td>1790</td>\n",
       "      <td>Washington_1790</td>\n",
       "      <td>Fellow Citizens of the Senate, and House of Re...</td>\n",
       "      <td>Independent</td>\n",
       "    </tr>\n",
       "    <tr>\n",
       "      <th>1</th>\n",
       "      <td>Washington</td>\n",
       "      <td>1791</td>\n",
       "      <td>Washington_1791</td>\n",
       "      <td>Fellow-Citizens of the Senate and House of Rep...</td>\n",
       "      <td>Independent</td>\n",
       "    </tr>\n",
       "    <tr>\n",
       "      <th>2</th>\n",
       "      <td>Washington</td>\n",
       "      <td>1792</td>\n",
       "      <td>Washington_1792</td>\n",
       "      <td>Fellow-Citizens of the Senate and House of Rep...</td>\n",
       "      <td>Independent</td>\n",
       "    </tr>\n",
       "    <tr>\n",
       "      <th>3</th>\n",
       "      <td>Washington</td>\n",
       "      <td>1793</td>\n",
       "      <td>Washington_1793</td>\n",
       "      <td>Fellow-Citizens of the Senate and House of Rep...</td>\n",
       "      <td>Independent</td>\n",
       "    </tr>\n",
       "    <tr>\n",
       "      <th>4</th>\n",
       "      <td>Washington</td>\n",
       "      <td>1794</td>\n",
       "      <td>Washington_1794</td>\n",
       "      <td>Fellow-Citizens of the Senate and House of Rep...</td>\n",
       "      <td>Independent</td>\n",
       "    </tr>\n",
       "  </tbody>\n",
       "</table>\n",
       "</div>"
      ],
      "text/plain": [
       "    president  year            title  \\\n",
       "0  Washington  1790  Washington_1790   \n",
       "1  Washington  1791  Washington_1791   \n",
       "2  Washington  1792  Washington_1792   \n",
       "3  Washington  1793  Washington_1793   \n",
       "4  Washington  1794  Washington_1794   \n",
       "\n",
       "                                                text        party  \n",
       "0  Fellow Citizens of the Senate, and House of Re...  Independent  \n",
       "1  Fellow-Citizens of the Senate and House of Rep...  Independent  \n",
       "2  Fellow-Citizens of the Senate and House of Rep...  Independent  \n",
       "3  Fellow-Citizens of the Senate and House of Rep...  Independent  \n",
       "4  Fellow-Citizens of the Senate and House of Rep...  Independent  "
      ]
     },
     "execution_count": 3,
     "metadata": {},
     "output_type": "execute_result"
    }
   ],
   "source": [
    "sotu_df.head()"
   ]
  },
  {
   "cell_type": "markdown",
   "metadata": {},
   "source": [
    "## Text preparation\n",
    "I will only remove the punctuation from each address. I don't want to remove all non-alphabetic characters because I want numbers to count toward speech length."
   ]
  },
  {
   "cell_type": "code",
   "execution_count": 4,
   "metadata": {},
   "outputs": [],
   "source": [
    "import string"
   ]
  },
  {
   "cell_type": "code",
   "execution_count": 5,
   "metadata": {},
   "outputs": [],
   "source": [
    "# Add a special kind of apostrophe that appears in some transcripts.\n",
    "punctuation = string.punctuation + \"’\""
   ]
  },
  {
   "cell_type": "code",
   "execution_count": 6,
   "metadata": {},
   "outputs": [],
   "source": [
    "def remove_punc(text):\n",
    "    \"\"\"\n",
    "    Function takes a string as input, removes the\n",
    "    punctuation and returns a clean string.\n",
    "    \"\"\"\n",
    "    # Split on hyphenated words and em dashes, then rejoin them into a string and split again but on whitespace\n",
    "    tokens = \" \".join(text.split('-')).split('—')\n",
    "    tokens = \" \".join(tokens).split()\n",
    "\n",
    "    # Remove punctuation\n",
    "    table = str.maketrans(\"\", \"\", punctuation)\n",
    "    tokens = [w.translate(table) for w in tokens]\n",
    "\n",
    "    # Ensure that all words are stripped of whitespace\n",
    "    tokens = [word.strip() for word in tokens]\n",
    "    \n",
    "    return \" \".join(tokens)"
   ]
  },
  {
   "cell_type": "code",
   "execution_count": 7,
   "metadata": {},
   "outputs": [],
   "source": [
    "# Clean each speech in the dataset and store it in a new column titled \"cleaned_text\"\n",
    "sotu_df['cleaned_text'] = sotu_df['text'].apply(remove_punc)"
   ]
  },
  {
   "cell_type": "code",
   "execution_count": 8,
   "metadata": {
    "scrolled": true
   },
   "outputs": [
    {
     "data": {
      "text/html": [
       "<div>\n",
       "<style scoped>\n",
       "    .dataframe tbody tr th:only-of-type {\n",
       "        vertical-align: middle;\n",
       "    }\n",
       "\n",
       "    .dataframe tbody tr th {\n",
       "        vertical-align: top;\n",
       "    }\n",
       "\n",
       "    .dataframe thead th {\n",
       "        text-align: right;\n",
       "    }\n",
       "</style>\n",
       "<table border=\"1\" class=\"dataframe\">\n",
       "  <thead>\n",
       "    <tr style=\"text-align: right;\">\n",
       "      <th></th>\n",
       "      <th>president</th>\n",
       "      <th>year</th>\n",
       "      <th>title</th>\n",
       "      <th>text</th>\n",
       "      <th>party</th>\n",
       "      <th>cleaned_text</th>\n",
       "    </tr>\n",
       "  </thead>\n",
       "  <tbody>\n",
       "    <tr>\n",
       "      <th>0</th>\n",
       "      <td>Washington</td>\n",
       "      <td>1790</td>\n",
       "      <td>Washington_1790</td>\n",
       "      <td>Fellow Citizens of the Senate, and House of Re...</td>\n",
       "      <td>Independent</td>\n",
       "      <td>Fellow Citizens of the Senate and House of Rep...</td>\n",
       "    </tr>\n",
       "    <tr>\n",
       "      <th>1</th>\n",
       "      <td>Washington</td>\n",
       "      <td>1791</td>\n",
       "      <td>Washington_1791</td>\n",
       "      <td>Fellow-Citizens of the Senate and House of Rep...</td>\n",
       "      <td>Independent</td>\n",
       "      <td>Fellow Citizens of the Senate and House of Rep...</td>\n",
       "    </tr>\n",
       "    <tr>\n",
       "      <th>2</th>\n",
       "      <td>Washington</td>\n",
       "      <td>1792</td>\n",
       "      <td>Washington_1792</td>\n",
       "      <td>Fellow-Citizens of the Senate and House of Rep...</td>\n",
       "      <td>Independent</td>\n",
       "      <td>Fellow Citizens of the Senate and House of Rep...</td>\n",
       "    </tr>\n",
       "    <tr>\n",
       "      <th>3</th>\n",
       "      <td>Washington</td>\n",
       "      <td>1793</td>\n",
       "      <td>Washington_1793</td>\n",
       "      <td>Fellow-Citizens of the Senate and House of Rep...</td>\n",
       "      <td>Independent</td>\n",
       "      <td>Fellow Citizens of the Senate and House of Rep...</td>\n",
       "    </tr>\n",
       "    <tr>\n",
       "      <th>4</th>\n",
       "      <td>Washington</td>\n",
       "      <td>1794</td>\n",
       "      <td>Washington_1794</td>\n",
       "      <td>Fellow-Citizens of the Senate and House of Rep...</td>\n",
       "      <td>Independent</td>\n",
       "      <td>Fellow Citizens of the Senate and House of Rep...</td>\n",
       "    </tr>\n",
       "  </tbody>\n",
       "</table>\n",
       "</div>"
      ],
      "text/plain": [
       "    president  year            title  \\\n",
       "0  Washington  1790  Washington_1790   \n",
       "1  Washington  1791  Washington_1791   \n",
       "2  Washington  1792  Washington_1792   \n",
       "3  Washington  1793  Washington_1793   \n",
       "4  Washington  1794  Washington_1794   \n",
       "\n",
       "                                                text        party  \\\n",
       "0  Fellow Citizens of the Senate, and House of Re...  Independent   \n",
       "1  Fellow-Citizens of the Senate and House of Rep...  Independent   \n",
       "2  Fellow-Citizens of the Senate and House of Rep...  Independent   \n",
       "3  Fellow-Citizens of the Senate and House of Rep...  Independent   \n",
       "4  Fellow-Citizens of the Senate and House of Rep...  Independent   \n",
       "\n",
       "                                        cleaned_text  \n",
       "0  Fellow Citizens of the Senate and House of Rep...  \n",
       "1  Fellow Citizens of the Senate and House of Rep...  \n",
       "2  Fellow Citizens of the Senate and House of Rep...  \n",
       "3  Fellow Citizens of the Senate and House of Rep...  \n",
       "4  Fellow Citizens of the Senate and House of Rep...  "
      ]
     },
     "execution_count": 8,
     "metadata": {},
     "output_type": "execute_result"
    }
   ],
   "source": [
    "sotu_df.head()"
   ]
  },
  {
   "cell_type": "markdown",
   "metadata": {},
   "source": [
    "## Create a speech length feature and a readability feature, and add them to the dataframe."
   ]
  },
  {
   "cell_type": "markdown",
   "metadata": {},
   "source": [
    "#### Calculate the number of words in each address"
   ]
  },
  {
   "cell_type": "code",
   "execution_count": 9,
   "metadata": {},
   "outputs": [],
   "source": [
    "sotu_df['word_count'] = sotu_df['cleaned_text'].apply(lambda x: len(x.split()))"
   ]
  },
  {
   "cell_type": "markdown",
   "metadata": {},
   "source": [
    "#### Calculate the Flesch Reading Ease Score for each speech. For the Flesch score, a higher score means it's easier to read."
   ]
  },
  {
   "cell_type": "code",
   "execution_count": 10,
   "metadata": {},
   "outputs": [],
   "source": [
    "from textatistic import Textatistic"
   ]
  },
  {
   "cell_type": "code",
   "execution_count": 11,
   "metadata": {},
   "outputs": [],
   "source": [
    "# Textatistic needs the string to have punctuation, so it will be fed the uncleaned text.\n",
    "sotu_df['flesch_score'] = sotu_df['text'].apply(lambda x: Textatistic(x).scores['flesch_score'])"
   ]
  },
  {
   "cell_type": "code",
   "execution_count": 12,
   "metadata": {},
   "outputs": [],
   "source": [
    "# Map the readability score to the associated grade level.\n",
    "def readability_translation_to_grade(score):\n",
    "    \"\"\"\n",
    "    Function takes a Flesch readability\n",
    "    score as input and returns the grade\n",
    "    level as a string.\n",
    "    \"\"\"\n",
    "    if score >= 90.0:\n",
    "        return '5th grade level'\n",
    "    elif score >= 80.0:\n",
    "        return '6th grade level'\n",
    "    elif score >= 70.0:\n",
    "        return '7th grade level'\n",
    "    elif score >= 60.0:\n",
    "        return '8th & 9th grade level'\n",
    "    elif score >= 50.0:\n",
    "        return '10th to 12th grade level'\n",
    "    elif score >= 30.0:\n",
    "        return 'College level'\n",
    "    elif score >= 10.0:\n",
    "        return 'College graduate level'\n",
    "    elif score < 10.0:\n",
    "        return 'Professional level'"
   ]
  },
  {
   "cell_type": "code",
   "execution_count": 13,
   "metadata": {},
   "outputs": [],
   "source": [
    "# Add the new feature to the dataframe\n",
    "sotu_df['reading_grade_level'] = sotu_df['flesch_score'].apply(readability_translation_to_grade)"
   ]
  },
  {
   "cell_type": "code",
   "execution_count": 14,
   "metadata": {},
   "outputs": [
    {
     "data": {
      "text/html": [
       "<div>\n",
       "<style scoped>\n",
       "    .dataframe tbody tr th:only-of-type {\n",
       "        vertical-align: middle;\n",
       "    }\n",
       "\n",
       "    .dataframe tbody tr th {\n",
       "        vertical-align: top;\n",
       "    }\n",
       "\n",
       "    .dataframe thead th {\n",
       "        text-align: right;\n",
       "    }\n",
       "</style>\n",
       "<table border=\"1\" class=\"dataframe\">\n",
       "  <thead>\n",
       "    <tr style=\"text-align: right;\">\n",
       "      <th></th>\n",
       "      <th>president</th>\n",
       "      <th>year</th>\n",
       "      <th>title</th>\n",
       "      <th>text</th>\n",
       "      <th>party</th>\n",
       "      <th>cleaned_text</th>\n",
       "      <th>word_count</th>\n",
       "      <th>flesch_score</th>\n",
       "      <th>reading_grade_level</th>\n",
       "    </tr>\n",
       "  </thead>\n",
       "  <tbody>\n",
       "    <tr>\n",
       "      <th>0</th>\n",
       "      <td>Washington</td>\n",
       "      <td>1790</td>\n",
       "      <td>Washington_1790</td>\n",
       "      <td>Fellow Citizens of the Senate, and House of Re...</td>\n",
       "      <td>Independent</td>\n",
       "      <td>Fellow Citizens of the Senate and House of Rep...</td>\n",
       "      <td>1093</td>\n",
       "      <td>38.824272</td>\n",
       "      <td>College level</td>\n",
       "    </tr>\n",
       "    <tr>\n",
       "      <th>1</th>\n",
       "      <td>Washington</td>\n",
       "      <td>1791</td>\n",
       "      <td>Washington_1791</td>\n",
       "      <td>Fellow-Citizens of the Senate and House of Rep...</td>\n",
       "      <td>Independent</td>\n",
       "      <td>Fellow Citizens of the Senate and House of Rep...</td>\n",
       "      <td>2308</td>\n",
       "      <td>36.893961</td>\n",
       "      <td>College level</td>\n",
       "    </tr>\n",
       "    <tr>\n",
       "      <th>2</th>\n",
       "      <td>Washington</td>\n",
       "      <td>1792</td>\n",
       "      <td>Washington_1792</td>\n",
       "      <td>Fellow-Citizens of the Senate and House of Rep...</td>\n",
       "      <td>Independent</td>\n",
       "      <td>Fellow Citizens of the Senate and House of Rep...</td>\n",
       "      <td>2100</td>\n",
       "      <td>43.322286</td>\n",
       "      <td>College level</td>\n",
       "    </tr>\n",
       "    <tr>\n",
       "      <th>3</th>\n",
       "      <td>Washington</td>\n",
       "      <td>1793</td>\n",
       "      <td>Washington_1793</td>\n",
       "      <td>Fellow-Citizens of the Senate and House of Rep...</td>\n",
       "      <td>Independent</td>\n",
       "      <td>Fellow Citizens of the Senate and House of Rep...</td>\n",
       "      <td>1969</td>\n",
       "      <td>46.326339</td>\n",
       "      <td>College level</td>\n",
       "    </tr>\n",
       "    <tr>\n",
       "      <th>4</th>\n",
       "      <td>Washington</td>\n",
       "      <td>1794</td>\n",
       "      <td>Washington_1794</td>\n",
       "      <td>Fellow-Citizens of the Senate and House of Rep...</td>\n",
       "      <td>Independent</td>\n",
       "      <td>Fellow Citizens of the Senate and House of Rep...</td>\n",
       "      <td>2918</td>\n",
       "      <td>41.789635</td>\n",
       "      <td>College level</td>\n",
       "    </tr>\n",
       "  </tbody>\n",
       "</table>\n",
       "</div>"
      ],
      "text/plain": [
       "    president  year            title  \\\n",
       "0  Washington  1790  Washington_1790   \n",
       "1  Washington  1791  Washington_1791   \n",
       "2  Washington  1792  Washington_1792   \n",
       "3  Washington  1793  Washington_1793   \n",
       "4  Washington  1794  Washington_1794   \n",
       "\n",
       "                                                text        party  \\\n",
       "0  Fellow Citizens of the Senate, and House of Re...  Independent   \n",
       "1  Fellow-Citizens of the Senate and House of Rep...  Independent   \n",
       "2  Fellow-Citizens of the Senate and House of Rep...  Independent   \n",
       "3  Fellow-Citizens of the Senate and House of Rep...  Independent   \n",
       "4  Fellow-Citizens of the Senate and House of Rep...  Independent   \n",
       "\n",
       "                                        cleaned_text  word_count  \\\n",
       "0  Fellow Citizens of the Senate and House of Rep...        1093   \n",
       "1  Fellow Citizens of the Senate and House of Rep...        2308   \n",
       "2  Fellow Citizens of the Senate and House of Rep...        2100   \n",
       "3  Fellow Citizens of the Senate and House of Rep...        1969   \n",
       "4  Fellow Citizens of the Senate and House of Rep...        2918   \n",
       "\n",
       "   flesch_score reading_grade_level  \n",
       "0     38.824272       College level  \n",
       "1     36.893961       College level  \n",
       "2     43.322286       College level  \n",
       "3     46.326339       College level  \n",
       "4     41.789635       College level  "
      ]
     },
     "execution_count": 14,
     "metadata": {},
     "output_type": "execute_result"
    }
   ],
   "source": [
    "sotu_df.head()"
   ]
  },
  {
   "cell_type": "markdown",
   "metadata": {},
   "source": [
    "### Next, create a function to count the most common words in a single speech or a group of speeches\n",
    "The idea is to be able to input a list of speeches from some grouping, such as all the speeches of a party or a particular president, and find the most commonly used words. The function will also be able to find the most common words in a single speech."
   ]
  },
  {
   "cell_type": "code",
   "execution_count": 15,
   "metadata": {},
   "outputs": [],
   "source": [
    "from nltk.tokenize import word_tokenize\n",
    "from collections import Counter\n",
    "from nltk.corpus import stopwords"
   ]
  },
  {
   "cell_type": "code",
   "execution_count": 16,
   "metadata": {},
   "outputs": [],
   "source": [
    "def n_most_common_words(speeches, n_words=5):\n",
    "    \"\"\"\n",
    "    Function takes a list or pandas Series of speeches \n",
    "    and returns the n_words most common words used in\n",
    "    the provided corpus of speeches.\n",
    "    \"\"\"\n",
    "    if (type(speeches) != list and type(speeches) != pd.core.series.Series):\n",
    "        raise Exception(\"First argument must be a list or a pandas Series. For a single speech, make a singleton list.\")\n",
    "    master_string = \" \".join(speeches)\n",
    "    tokens = word_tokenize(master_string)\n",
    "    \n",
    "    # Remove stopwords, and add a few more terms to the nltk stopwords list\n",
    "    stop_words = stopwords.words('english') + ['The', 'And', 'In', 'also', 'I', 'It', 'But', 'year', 'would']\n",
    "    tokens = [word for word in tokens if word not in stop_words]\n",
    "    counter = Counter(tokens)\n",
    "    return counter.most_common(n_words)"
   ]
  },
  {
   "cell_type": "markdown",
   "metadata": {},
   "source": [
    "### Now you have all the functions and data needed to compare speeches across presidents, parties, and time."
   ]
  },
  {
   "cell_type": "markdown",
   "metadata": {},
   "source": [
    "--------"
   ]
  },
  {
   "cell_type": "markdown",
   "metadata": {},
   "source": [
    "# Analysis"
   ]
  },
  {
   "cell_type": "markdown",
   "metadata": {},
   "source": [
    "### Superlatives: Which speeches and presidents stood out?"
   ]
  },
  {
   "cell_type": "code",
   "execution_count": 17,
   "metadata": {},
   "outputs": [],
   "source": [
    "# Define a helper function to eliminate redundant code\n",
    "def most_and_least(df, feature):\n",
    "    \"\"\"\n",
    "    Function takes a dataframe as input, either a \n",
    "    regular one or one already grouped by a feature.\n",
    "    Then it sorts the dataframe by the provided 'feature'\n",
    "    and returns a tuple of the form: \n",
    "    (highest_observation, lowest_observation).\n",
    "    \"\"\"\n",
    "    top_instance = df.sort_values(feature, ascending=False).iloc[0]\n",
    "    bottom_instance = df.sort_values(feature, ascending=False).iloc[-1]\n",
    "    return (top_instance, bottom_instance)"
   ]
  },
  {
   "cell_type": "markdown",
   "metadata": {},
   "source": [
    "##### What were the longest and shortest speeches?"
   ]
  },
  {
   "cell_type": "code",
   "execution_count": 18,
   "metadata": {},
   "outputs": [],
   "source": [
    "longest_speech, shortest_speech = most_and_least(sotu_df, 'word_count')"
   ]
  },
  {
   "cell_type": "code",
   "execution_count": 19,
   "metadata": {},
   "outputs": [
    {
     "name": "stdout",
     "output_type": "stream",
     "text": [
      "The longest speech was Carter_1981, with a length of 33840 words.\n",
      "The shortest speech was Washington_1790, with a length of 1093 words.\n"
     ]
    }
   ],
   "source": [
    "print('The longest speech was {title}, with a length of {length} words.'.format(title=longest_speech['title'], \n",
    "                                                                                length=longest_speech['word_count']))\n",
    "\n",
    "print('The shortest speech was {title}, with a length of {length} words.'.format(title=shortest_speech['title'], \n",
    "                                                                                 length=shortest_speech['word_count']))"
   ]
  },
  {
   "cell_type": "markdown",
   "metadata": {},
   "source": [
    "Turns out, President Jimmy Carter's 1981 State of the Union was one of the only addresses in modern history that was written and delivered to Congress rather than given in person as a speech. This might explain why it was so long."
   ]
  },
  {
   "cell_type": "markdown",
   "metadata": {},
   "source": [
    "##### Which presidents had the longest and shortest speeches on average?"
   ]
  },
  {
   "cell_type": "code",
   "execution_count": 20,
   "metadata": {},
   "outputs": [],
   "source": [
    "longest_on_avg, shortest_on_avg = most_and_least(sotu_df.groupby('president').mean(), 'word_count')"
   ]
  },
  {
   "cell_type": "code",
   "execution_count": 21,
   "metadata": {},
   "outputs": [
    {
     "name": "stdout",
     "output_type": "stream",
     "text": [
      "The president with the longest speeches on average was Theodore Roosevelt. Average length: 19740.375 words.\n",
      "The president with the shortest speeches on average was John Adams. Average length: 1789.25 words.\n"
     ]
    }
   ],
   "source": [
    "print('The president with the longest speeches on average was {name}. Average length: {length} words.'.format(\n",
    "    name=longest_on_avg.name, length=longest_on_avg['word_count']))\n",
    "print('The president with the shortest speeches on average was {name}. Average length: {length} words.'.format(\n",
    "    name=shortest_on_avg.name, length=shortest_on_avg['word_count']))"
   ]
  },
  {
   "cell_type": "markdown",
   "metadata": {},
   "source": [
    "##### Which speeches were most and least readable?"
   ]
  },
  {
   "cell_type": "code",
   "execution_count": 22,
   "metadata": {},
   "outputs": [],
   "source": [
    "most_readable, least_readable = most_and_least(sotu_df, 'flesch_score')"
   ]
  },
  {
   "cell_type": "code",
   "execution_count": 23,
   "metadata": {},
   "outputs": [
    {
     "name": "stdout",
     "output_type": "stream",
     "text": [
      "The most readable speech was Bush_1992, with a 7th grade level readability.\n",
      "The least readable (most difficult to understand) speech was Madison_1815, with a College graduate level readability.\n"
     ]
    }
   ],
   "source": [
    "print('The most readable speech was {title}, with a {grade} readability.'.format(\n",
    "    title=most_readable['title'], grade=most_readable['reading_grade_level']))\n",
    "\n",
    "print('The least readable (most difficult to understand) speech was {title}, with a {grade} readability.'.format(\n",
    "    title=least_readable['title'], grade=least_readable['reading_grade_level']))"
   ]
  },
  {
   "cell_type": "markdown",
   "metadata": {},
   "source": [
    "##### Of the presidents that gave a State of the Union address, who gave the most and who gave the fewest addresses?\n",
    "NOTE: Two presidents, William Henry Harrison and James A. Garfield, died in office before ever giving a State of the Union address."
   ]
  },
  {
   "cell_type": "code",
   "execution_count": 24,
   "metadata": {},
   "outputs": [],
   "source": [
    "# You can pass any feature name as the argument to sort by because all values in the count dataframe are the same\n",
    "most_speeches, fewest_speeches = most_and_least(sotu_df.groupby('president').count(), 'year')"
   ]
  },
  {
   "cell_type": "code",
   "execution_count": 25,
   "metadata": {},
   "outputs": [
    {
     "name": "stdout",
     "output_type": "stream",
     "text": [
      "President Franklin Roosevelt gave the most State of the Union addresses, with 12.\n",
      "President Taylor gave the fewest State of the Union addresses, with 1.\n"
     ]
    }
   ],
   "source": [
    "print(\"President {name} gave the most State of the Union addresses, with {count}.\".format(name=most_speeches.name,\n",
    "                                                                                count=most_speeches['year']))\n",
    "print(\"President {name} gave the fewest State of the Union addresses, with {count}.\".format(name=fewest_speeches.name,\n",
    "                                                                                count=fewest_speeches['year']))"
   ]
  },
  {
   "cell_type": "markdown",
   "metadata": {},
   "source": [
    "#### Create a function that returns the most common words used by a president."
   ]
  },
  {
   "cell_type": "code",
   "execution_count": 26,
   "metadata": {},
   "outputs": [],
   "source": [
    "def president_most_common(president_name, n_words=5):\n",
    "    \"\"\"\n",
    "    Function takes a president's name as a string\n",
    "    and a specified number of most common words and \n",
    "    returns the n_words most common words used by that president\n",
    "    across his speeches. Provides a simpler interface to\n",
    "    the n_most_common_words function.\n",
    "    \"\"\"\n",
    "    return n_most_common_words(sotu_df[sotu_df['president'] == president_name]['cleaned_text'], n_words)"
   ]
  },
  {
   "cell_type": "code",
   "execution_count": 27,
   "metadata": {
    "scrolled": true
   },
   "outputs": [
    {
     "data": {
      "text/plain": [
       "[('We', 225), ('new', 201), ('America', 189), ('us', 184), ('people', 184)]"
      ]
     },
     "execution_count": 27,
     "metadata": {},
     "output_type": "execute_result"
    }
   ],
   "source": [
    "president_most_common('Obama')"
   ]
  },
  {
   "cell_type": "code",
   "execution_count": 28,
   "metadata": {},
   "outputs": [
    {
     "data": {
      "text/plain": [
       "[('American', 133),\n",
       " ('We', 129),\n",
       " ('America', 81),\n",
       " ('new', 79),\n",
       " ('Americans', 77)]"
      ]
     },
     "execution_count": 28,
     "metadata": {},
     "output_type": "execute_result"
    }
   ],
   "source": [
    "president_most_common('Trump')"
   ]
  },
  {
   "cell_type": "code",
   "execution_count": 29,
   "metadata": {
    "scrolled": true
   },
   "outputs": [
    {
     "data": {
      "text/plain": [
       "[('We', 174), ('us', 154), ('America', 127), ('must', 126), ('people', 122)]"
      ]
     },
     "execution_count": 29,
     "metadata": {},
     "output_type": "execute_result"
    }
   ],
   "source": [
    "president_most_common('Reagan')"
   ]
  },
  {
   "cell_type": "code",
   "execution_count": 30,
   "metadata": {},
   "outputs": [
    {
     "data": {
      "text/plain": [
       "[('States', 91), ('United', 84), ('may', 63), ('public', 49), ('upon', 37)]"
      ]
     },
     "execution_count": 30,
     "metadata": {},
     "output_type": "execute_result"
    }
   ],
   "source": [
    "president_most_common('Washington')"
   ]
  },
  {
   "cell_type": "code",
   "execution_count": 31,
   "metadata": {},
   "outputs": [
    {
     "data": {
      "text/plain": [
       "[('new', 56), ('We', 43), ('world', 38), ('free', 36), ('nations', 30)]"
      ]
     },
     "execution_count": 31,
     "metadata": {},
     "output_type": "execute_result"
    }
   ],
   "source": [
    "president_most_common('Kennedy')"
   ]
  },
  {
   "cell_type": "markdown",
   "metadata": {},
   "source": [
    "### Comparisons across parties and time"
   ]
  },
  {
   "cell_type": "markdown",
   "metadata": {},
   "source": [
    "To make comparisons acorss time, I will create 5 categories for the following time periods: 1790-1850, 1851-1900, 1901-1950, 1951-2000, 2001-2020."
   ]
  },
  {
   "cell_type": "code",
   "execution_count": 32,
   "metadata": {},
   "outputs": [],
   "source": [
    "def categorize_time_period(year):\n",
    "    \"\"\"\n",
    "    Function takes an int representing the\n",
    "    year the speech was given and returns the\n",
    "    time period bucket the year falls into.\n",
    "    \"\"\"\n",
    "    if year <= 1850:\n",
    "        return '1790-1850'\n",
    "    elif year <= 1900:\n",
    "        return '1851-1900'\n",
    "    elif year <= 1950:\n",
    "        return '1901-1950'\n",
    "    elif year <= 2000:\n",
    "        return '1951-2000'\n",
    "    else:\n",
    "        return '2001-2020'"
   ]
  },
  {
   "cell_type": "code",
   "execution_count": 33,
   "metadata": {},
   "outputs": [],
   "source": [
    "# Add a time period categorical column\n",
    "sotu_df['time_period'] = sotu_df['year'].apply(categorize_time_period)"
   ]
  },
  {
   "cell_type": "markdown",
   "metadata": {},
   "source": [
    "Create a function to help plot different features by party or time period."
   ]
  },
  {
   "cell_type": "code",
   "execution_count": 34,
   "metadata": {},
   "outputs": [],
   "source": [
    "import seaborn as sns\n",
    "import matplotlib.pyplot as plt"
   ]
  },
  {
   "cell_type": "code",
   "execution_count": 35,
   "metadata": {},
   "outputs": [],
   "source": [
    "party_colors = {\n",
    "    'Whig': '#ffc680',\n",
    "    'Democrat': 'blue',\n",
    "    'Republican': 'red',\n",
    "    'Democratic-Republican': '#a83266',\n",
    "    'Federalist': '#000000',\n",
    "    'Independent': '#808080'\n",
    "}"
   ]
  },
  {
   "cell_type": "code",
   "execution_count": 36,
   "metadata": {},
   "outputs": [],
   "source": [
    "def plot_grouped_by_feature(feature, df, title, x_label, y_label, palette='crest'):\n",
    "    \"\"\"\n",
    "    Function takes a feature to plot; a dataframe;\n",
    "    a plot title; an x label; a y label; and an optional\n",
    "    color palette argument. Then it creates and plots\n",
    "    a Seaborn bar plot.\n",
    "    \"\"\"\n",
    "    plt.figure(figsize=(8, 7))\n",
    "    splot = sns.barplot(x=df.index, y=feature, data=df, ci=None, palette=palette)\n",
    "\n",
    "    for p in splot.patches:\n",
    "        splot.annotate(format(p.get_height(), '.1f'), \n",
    "                       (p.get_x() + p.get_width() / 2., p.get_height()), \n",
    "                       ha = 'center', va = 'center', \n",
    "                       xytext = (0, 9), \n",
    "                       textcoords = 'offset points')\n",
    "    \n",
    "    plt.title(title, fontsize=18, pad=20)\n",
    "    plt.xlabel(x_label, fontsize=14)\n",
    "    plt.xticks(rotation=30)\n",
    "    plt.ylabel(y_label, fontsize=14)\n",
    "    plt.tight_layout()"
   ]
  },
  {
   "cell_type": "markdown",
   "metadata": {},
   "source": [
    "#### Which party has given the most State of the Union addresses?"
   ]
  },
  {
   "cell_type": "code",
   "execution_count": 37,
   "metadata": {},
   "outputs": [],
   "source": [
    "speech_count_by_party = sotu_df.groupby('party').count().sort_values('year', ascending=False)"
   ]
  },
  {
   "cell_type": "code",
   "execution_count": 38,
   "metadata": {},
   "outputs": [
    {
     "data": {
      "image/png": "[encoded data removed]",
      "text/plain": [
       "<Figure size 576x504 with 1 Axes>"
      ]
     },
     "metadata": {
      "needs_background": "light"
     },
     "output_type": "display_data"
    }
   ],
   "source": [
    "plot_grouped_by_feature('president', speech_count_by_party, 'Number of State of the Union Speeches Given by Party',\n",
    "                        'Party', 'Number of speeches', party_colors)"
   ]
  },
  {
   "cell_type": "markdown",
   "metadata": {},
   "source": [
    "The dominance of Democrats and Republicans should come as no surprise considering the fact that they have been the only major parties in the United States since the 1850s."
   ]
  },
  {
   "cell_type": "markdown",
   "metadata": {},
   "source": [
    "#### Compare the average speech lengths of the parties."
   ]
  },
  {
   "cell_type": "code",
   "execution_count": 39,
   "metadata": {},
   "outputs": [],
   "source": [
    "avg_length_by_party = sotu_df.groupby('party').mean().sort_values('word_count', ascending=False)"
   ]
  },
  {
   "cell_type": "code",
   "execution_count": 40,
   "metadata": {},
   "outputs": [
    {
     "data": {
      "image/png": "[encoded data removed]",
      "text/plain": [
       "<Figure size 576x504 with 1 Axes>"
      ]
     },
     "metadata": {
      "needs_background": "light"
     },
     "output_type": "display_data"
    }
   ],
   "source": [
    "plot_grouped_by_feature('word_count', avg_length_by_party, 'Average State of the Union Speech Length by Party', \n",
    "                        'Party', 'Number of words', party_colors)"
   ]
  },
  {
   "cell_type": "markdown",
   "metadata": {},
   "source": [
    "As you can see in the plot above, the Whig presidents of the first half of the 19th century were quite loquacious. Democrats and Republicans have, on average, given speeches of about the same length."
   ]
  },
  {
   "cell_type": "markdown",
   "metadata": {},
   "source": [
    "#### Compare the average speech lengths over time."
   ]
  },
  {
   "cell_type": "code",
   "execution_count": 41,
   "metadata": {},
   "outputs": [],
   "source": [
    "avg_length_over_time = sotu_df.groupby('time_period').mean()"
   ]
  },
  {
   "cell_type": "code",
   "execution_count": 42,
   "metadata": {},
   "outputs": [
    {
     "data": {
      "image/png": "[encoded data removed]",
      "text/plain": [
       "<Figure size 576x504 with 1 Axes>"
      ]
     },
     "metadata": {
      "needs_background": "light"
     },
     "output_type": "display_data"
    }
   ],
   "source": [
    "plot_grouped_by_feature('word_count', avg_length_over_time, 'Average State of the Union Speech Length by Time Period',\n",
    "                        'Time Period', 'Number of words')"
   ]
  },
  {
   "cell_type": "markdown",
   "metadata": {},
   "source": [
    "It's fascinating to see that since the first half of the 19th century, average speech lengths have decreased. After some further investigation, I learned that Thomas Jefferson started the tradition of delivering a written address to Congress rather than giving a speech in person. Therefore, from 1801 until 1913, the State of the Union address was not delivered by the president as a speech, but rather submitted to Congress as a written report. This written format likely explains why speeches in the time period 1851-1900 were so long. In fact, the most recent president to submit a written speech rather than give the speech in person was Jimmy Carter in 1981. As I showed earlier, this address was the longest ever, which indicates that there appears to be a relationship between the length of the address and the format.\n",
    "\n",
    "One more interesting note is that speeches from the past 70 years have been shorter, on average, than those from earlier time periods. My guess would be that the rise of TV, and the limited attention span of TV audiences, has forced presidents to shorten their addresses."
   ]
  },
  {
   "cell_type": "markdown",
   "metadata": {},
   "source": [
    "#### Speech readability by party"
   ]
  },
  {
   "cell_type": "code",
   "execution_count": 43,
   "metadata": {},
   "outputs": [],
   "source": [
    "readability_by_party = sotu_df.groupby('party').mean().sort_values('flesch_score', ascending=False)"
   ]
  },
  {
   "cell_type": "code",
   "execution_count": 44,
   "metadata": {},
   "outputs": [
    {
     "data": {
      "image/png": "[encoded data removed]",
      "text/plain": [
       "<Figure size 576x504 with 1 Axes>"
      ]
     },
     "metadata": {
      "needs_background": "light"
     },
     "output_type": "display_data"
    }
   ],
   "source": [
    "plot_grouped_by_feature('flesch_score', readability_by_party, \n",
    "                        'Average Readability of State of the Union Speeches by Party', 'Party', 'Flesch Score', \n",
    "                        party_colors)"
   ]
  },
  {
   "cell_type": "markdown",
   "metadata": {},
   "source": [
    "Remember, a higher score means the speech is easier to understand. Therefore, Democrats and Republicans have the most readable speeches on average compared to the speeches of the other parties.\n",
    "\n",
    "Republicans and Democrats on average have spoken at about a high school level (10th - 12th grade). All the other parties have spoken at a college level. However, none of these other parties have held the presidency since the 1850s, so it's possible that language changes since the 19th century account for most of these speeches' complexity."
   ]
  },
  {
   "cell_type": "markdown",
   "metadata": {},
   "source": [
    "#### Speech readability over time"
   ]
  },
  {
   "cell_type": "code",
   "execution_count": 45,
   "metadata": {},
   "outputs": [],
   "source": [
    "readability_over_time = sotu_df.groupby('time_period').mean()"
   ]
  },
  {
   "cell_type": "code",
   "execution_count": 46,
   "metadata": {},
   "outputs": [
    {
     "data": {
      "image/png": "[encoded data removed]",
      "text/plain": [
       "<Figure size 576x504 with 1 Axes>"
      ]
     },
     "metadata": {
      "needs_background": "light"
     },
     "output_type": "display_data"
    }
   ],
   "source": [
    "plot_grouped_by_feature('flesch_score', readability_over_time, \n",
    "                        'Average Readability of State of the Union Speeches by Time Period', 'Time Period', \n",
    "                        'Flesch Score')"
   ]
  },
  {
   "cell_type": "markdown",
   "metadata": {},
   "source": [
    "There is a pretty clear trend toward speeches becoming more \"readable\" over time. There are probably a number of factors contributing to why this is the case, from mass media to language changes. \n",
    "\n",
    "One thing that's important to keep in mind though, is that readability scores are based on our education standards today. So when the Flesch Score says that speeches from 1790-1850 are at a college level, this means that college students today could understand the speech. It's not clear what level of education would have been required back then to understand the speeches."
   ]
  },
  {
   "cell_type": "markdown",
   "metadata": {},
   "source": [
    "#### Favorite words of Republicans and Democrats\n",
    "These are the most common words from a corpus of all the Republican speeches and a corpus of all the Democratic speeches. In other words, if you consider all 91 Republican State of the Union addresses as a single text, these are the words that occurred the most often."
   ]
  },
  {
   "cell_type": "code",
   "execution_count": 47,
   "metadata": {
    "scrolled": true
   },
   "outputs": [
    {
     "data": {
      "text/plain": [
       "[('States', 2495),\n",
       " ('Government', 2337),\n",
       " ('Congress', 2222),\n",
       " ('United', 1917),\n",
       " ('people', 1760),\n",
       " ('upon', 1667),\n",
       " ('American', 1520),\n",
       " ('must', 1505),\n",
       " ('We', 1505),\n",
       " ('made', 1430)]"
      ]
     },
     "execution_count": 47,
     "metadata": {},
     "output_type": "execute_result"
    }
   ],
   "source": [
    "# Favorite Republican words\n",
    "n_most_common_words(sotu_df[sotu_df['party'] == 'Republican']['cleaned_text'], 10)"
   ]
  },
  {
   "cell_type": "code",
   "execution_count": 48,
   "metadata": {},
   "outputs": [
    {
     "data": {
      "text/plain": [
       "[('States', 2776),\n",
       " ('Government', 2358),\n",
       " ('Congress', 2151),\n",
       " ('people', 2010),\n",
       " ('United', 1976),\n",
       " ('We', 1948),\n",
       " ('upon', 1738),\n",
       " ('must', 1621),\n",
       " ('country', 1504),\n",
       " ('public', 1419)]"
      ]
     },
     "execution_count": 48,
     "metadata": {},
     "output_type": "execute_result"
    }
   ],
   "source": [
    "# Favorite Democratic words\n",
    "n_most_common_words(sotu_df[sotu_df['party'] == 'Democrat']['cleaned_text'], 10)"
   ]
  },
  {
   "cell_type": "markdown",
   "metadata": {},
   "source": [
    "Republicans and Democrats share 8 words across their respective top 10 most common words lists."
   ]
  },
  {
   "cell_type": "markdown",
   "metadata": {},
   "source": [
    "#### Most common words over time"
   ]
  },
  {
   "cell_type": "code",
   "execution_count": 49,
   "metadata": {},
   "outputs": [],
   "source": [
    "period_1 = sotu_df[sotu_df['time_period'] == '1790-1850']['cleaned_text']\n",
    "period_2 = sotu_df[sotu_df['time_period'] == '1851-1900']['cleaned_text']\n",
    "period_3 = sotu_df[sotu_df['time_period'] == '1901-1950']['cleaned_text']\n",
    "period_4 = sotu_df[sotu_df['time_period'] == '1951-2000']['cleaned_text']\n",
    "period_5 = sotu_df[sotu_df['time_period'] == '2001-2020']['cleaned_text']"
   ]
  },
  {
   "cell_type": "code",
   "execution_count": 50,
   "metadata": {},
   "outputs": [
    {
     "name": "stdout",
     "output_type": "stream",
     "text": [
      "1790-1850: [('States', 1909), ('Government', 1488), ('United', 1369), ('may', 1209), ('public', 1132)]\n",
      "\n",
      "\n",
      "1851-1900: [('States', 2778), ('Government', 2147), ('United', 1961), ('upon', 1639), ('Congress', 1597)]\n",
      "\n",
      "\n",
      "1901-1950: [('Government', 1367), ('Congress', 1136), ('States', 1026), ('must', 1014), ('We', 1008)]\n",
      "\n",
      "\n",
      "1951-2000: [('We', 1622), ('must', 1263), ('people', 1045), ('new', 1006), ('world', 934)]\n",
      "\n",
      "\n",
      "2001-2020: [('We', 591), ('America', 478), ('people', 415), ('American', 402), ('new', 392)]\n",
      "\n",
      "\n"
     ]
    }
   ],
   "source": [
    "print('1790-1850:', n_most_common_words(period_1, 5))\n",
    "print('\\n')\n",
    "print('1851-1900:', n_most_common_words(period_2, 5))\n",
    "print('\\n')\n",
    "print('1901-1950:', n_most_common_words(period_3, 5))\n",
    "print('\\n')\n",
    "print('1951-2000:', n_most_common_words(period_4, 5))\n",
    "print('\\n')\n",
    "print('2001-2020:', n_most_common_words(period_5, 5))\n",
    "print('\\n')"
   ]
  },
  {
   "cell_type": "markdown",
   "metadata": {},
   "source": [
    "It's interesting to see the words 'new' and 'world' occur often in the post-World War II era. It likely reflects America's rise to world superpower during that time period."
   ]
  },
  {
   "cell_type": "markdown",
   "metadata": {},
   "source": [
    "-----------"
   ]
  },
  {
   "cell_type": "markdown",
   "metadata": {},
   "source": [
    "# Content based recommendation  using semantic similarity"
   ]
  },
  {
   "cell_type": "markdown",
   "metadata": {},
   "source": [
    "The recommender below creates TF-IDF vectors for each speech and then computes the cosine similarity for every speech against every other speech. Cosine similarity measures the similarity between two vectors, and in our case, vectors are just documents represented numerically. Therefore, what cosine similarity ends up measuring is simply the similarity between two documents.\n",
    "\n",
    "Thus, for a given speech, the \"recommended\" speeches will be those with which it shares the highest cosine similarity."
   ]
  },
  {
   "cell_type": "code",
   "execution_count": 51,
   "metadata": {},
   "outputs": [],
   "source": [
    "# Create the TfidfVectorizer\n",
    "from sklearn.feature_extraction.text import TfidfVectorizer\n",
    "\n",
    "tfidf = TfidfVectorizer(lowercase=False)"
   ]
  },
  {
   "cell_type": "code",
   "execution_count": 52,
   "metadata": {},
   "outputs": [],
   "source": [
    "# Fit the TfidfVectorizer on the cleaned speeches corpus consisting of every speech\n",
    "\n",
    "tfidf_matrix = tfidf.fit_transform(sotu_df['cleaned_text'])"
   ]
  },
  {
   "cell_type": "code",
   "execution_count": 53,
   "metadata": {},
   "outputs": [],
   "source": [
    "# Generate the cosine similarity matrix\n",
    "from sklearn.metrics.pairwise import linear_kernel\n",
    "\n",
    "# Pass the tfidf_matrix as both arguments because you want the similarity of a speech with every other speech in \n",
    "# the corpus.\n",
    "cosine_similarity = linear_kernel(tfidf_matrix, tfidf_matrix)"
   ]
  },
  {
   "cell_type": "code",
   "execution_count": 54,
   "metadata": {},
   "outputs": [],
   "source": [
    "# Create a mapping between titles and index\n",
    "indices = pd.Series(sotu_df.index, index=sotu_df['title'])"
   ]
  },
  {
   "cell_type": "code",
   "execution_count": 56,
   "metadata": {},
   "outputs": [],
   "source": [
    "def recommend_speeches(title, cosine_similarity_matrix, indices):\n",
    "    \"\"\"\n",
    "    Function takes a speech title, a cosine similarity\n",
    "    matrix, and a Pandas series of indices and returns\n",
    "    the titles of the top 10 most similar speeches.\n",
    "    \"\"\"\n",
    "    idx = indices[title]\n",
    "    \n",
    "    # Sort the speeches by similarity score\n",
    "    sim_scores = list(enumerate(cosine_similarity_matrix[idx]))\n",
    "    sim_scores = sorted(sim_scores, key=lambda x: x[1], reverse=True)\n",
    "    \n",
    "    # Get the top 10 most similar speeches (starts at index 1 because a speech's most similar speech will be itself)\n",
    "    sim_scores = sim_scores[1:11]\n",
    "    # Get the speech indices\n",
    "    speech_indices = [i[0] for i in sim_scores]\n",
    "    # Return the 10 most similar speeches\n",
    "    return sotu_df['title'].iloc[speech_indices]"
   ]
  },
  {
   "cell_type": "code",
   "execution_count": 57,
   "metadata": {},
   "outputs": [
    {
     "data": {
      "text/plain": [
       "58          Polk_1848\n",
       "61      Fillmore_1851\n",
       "99      Harrison_1889\n",
       "48         Buren_1838\n",
       "96     Cleveland_1886\n",
       "47         Buren_1837\n",
       "89         Hayes_1879\n",
       "122         Taft_1912\n",
       "95     Cleveland_1885\n",
       "101     Harrison_1891\n",
       "Name: title, dtype: object"
      ]
     },
     "execution_count": 57,
     "metadata": {},
     "output_type": "execute_result"
    }
   ],
   "source": [
    "recommend_speeches('Lincoln_1864', cosine_similarity, indices)"
   ]
  },
  {
   "cell_type": "code",
   "execution_count": 58,
   "metadata": {},
   "outputs": [
    {
     "data": {
      "text/plain": [
       "220      Obama_2011\n",
       "224      Obama_2015\n",
       "204    Clinton_1995\n",
       "219      Obama_2010\n",
       "223      Obama_2014\n",
       "222      Obama_2013\n",
       "221      Obama_2012\n",
       "202    Clinton_1993\n",
       "218      Obama_2009\n",
       "207    Clinton_1998\n",
       "Name: title, dtype: object"
      ]
     },
     "execution_count": 58,
     "metadata": {},
     "output_type": "execute_result"
    }
   ],
   "source": [
    "recommend_speeches('Obama_2016', cosine_similarity, indices)"
   ]
  },
  {
   "cell_type": "code",
   "execution_count": 59,
   "metadata": {},
   "outputs": [
    {
     "data": {
      "text/plain": [
       "228      Trump_2019\n",
       "226      Trump_2017\n",
       "227      Trump_2018\n",
       "207    Clinton_1998\n",
       "213       Bush_2004\n",
       "176    Johnson_1967\n",
       "177    Johnson_1968\n",
       "215       Bush_2006\n",
       "187     Carter_1978\n",
       "216       Bush_2007\n",
       "Name: title, dtype: object"
      ]
     },
     "execution_count": 59,
     "metadata": {},
     "output_type": "execute_result"
    }
   ],
   "source": [
    "recommend_speeches('Trump_2020', cosine_similarity, indices)"
   ]
  },
  {
   "cell_type": "markdown",
   "metadata": {},
   "source": [
    "#### EXTRA: One final cool thing you can do with the cosine similarity matrix is find the most unique State of the Union address. To do this, simply find the speech with the lowest average cosine similarity score across all its pairwise comparisons."
   ]
  },
  {
   "cell_type": "code",
   "execution_count": 60,
   "metadata": {},
   "outputs": [],
   "source": [
    "similarity_averages = []\n",
    "for idx, row in enumerate(cosine_similarity):\n",
    "    similarity_averages.append({'index': idx, 'mean_similarity': row.mean()})"
   ]
  },
  {
   "cell_type": "code",
   "execution_count": 61,
   "metadata": {},
   "outputs": [],
   "source": [
    "most_unique_idx = sorted(similarity_averages, key=lambda x: x['mean_similarity'])[0]['index']"
   ]
  },
  {
   "cell_type": "code",
   "execution_count": 62,
   "metadata": {},
   "outputs": [
    {
     "data": {
      "text/plain": [
       "president                                                 George W. Bush\n",
       "year                                                                2001\n",
       "title                                                          Bush_2001\n",
       "text                   To the Congress of the United States:\\n\\nMr. S...\n",
       "party                                                         Republican\n",
       "cleaned_text           To the Congress of the United States Mr Speake...\n",
       "word_count                                                          4386\n",
       "flesch_score                                                     73.7629\n",
       "reading_grade_level                                      7th grade level\n",
       "time_period                                                    2001-2020\n",
       "Name: 210, dtype: object"
      ]
     },
     "execution_count": 62,
     "metadata": {},
     "output_type": "execute_result"
    }
   ],
   "source": [
    "sotu_df.iloc[most_unique_idx]"
   ]
  },
  {
   "cell_type": "markdown",
   "metadata": {},
   "source": [
    "The most unique speech, as measured by its average cosine similarity with all the other State of the Union addresses, was President George W. Bush's 2001 address. \n",
    "\n",
    "I find this to be a very interesting, though not entirely surprising, result. This address was given in January 2001, months before 9/11 and just a few days after Bush became president. This was a moment in America when history seemed to stand still. The Cold War had been over for less than a decade and America was getting comfortable as the unrivaled world superpower; the US economy was flourishing after working its way out of a recession in the early 90s; the internet was booming; had America's future ever looked brighter?\n",
    "\n",
    "Therefore, it's not surprising that this speech was unique. After 9/11, the president and the State of the Union would focus on the novel threat of international terrorism, and, in due time, the old speech topics of the economy, international tensions, and war would return."
   ]
  },
  {
   "cell_type": "code",
   "execution_count": null,
   "metadata": {},
   "outputs": [],
   "source": []
  }
 ],
 "metadata": {
  "kernelspec": {
   "display_name": "Python 3",
   "language": "python",
   "name": "python3"
  },
  "language_info": {
   "codemirror_mode": {
    "name": "ipython",
    "version": 3
   },
   "file_extension": ".py",
   "mimetype": "text/x-python",
   "name": "python",
   "nbconvert_exporter": "python",
   "pygments_lexer": "ipython3",
   "version": "3.8.2"
  }
 },
 "nbformat": 4,
 "nbformat_minor": 4
}
